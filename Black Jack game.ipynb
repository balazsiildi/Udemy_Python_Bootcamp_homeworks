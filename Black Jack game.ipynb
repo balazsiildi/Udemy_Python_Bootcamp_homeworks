{
 "cells": [
  {
   "cell_type": "markdown",
   "metadata": {},
   "source": [
    "# Milestone Project 2 - Blackjack Game\n",
    "In this milestone project you will be creating a Complete BlackJack Card Game in Python.\n",
    "\n",
    "Here are the requirements:\n",
    "\n",
    "* You need to create a simple text-based [BlackJack](https://en.wikipedia.org/wiki/Blackjack) game\n",
    "* The game needs to have one player versus an automated dealer.\n",
    "* The player can stand or hit.\n",
    "* The player must be able to pick their betting amount.\n",
    "* You need to keep track of the player's total money.\n",
    "* You need to alert the player of wins, losses, or busts, etc...\n",
    "\n",
    "And most importantly:\n",
    "\n",
    "* **You must use OOP and classes in some portion of your game. You can not just use functions in your game. Use classes to help you define the Deck and the Player's hand. There are many right ways to do this, so explore it well!**\n",
    "\n",
    "\n",
    "Feel free to expand this game. Try including multiple players. Try adding in Double-Down and card splits! Remember to you are free to use any resources you want and as always:\n",
    "\n",
    "# HAVE FUN!"
   ]
  },
  {
   "cell_type": "code",
   "execution_count": 73,
   "metadata": {},
   "outputs": [],
   "source": [
    "# Initiating modules and Cards suits, rankes and values:\n",
    "\n",
    "import random\n",
    "\n",
    "suits = ('Hearts', 'Diamonds', 'Spades', 'Clubs')\n",
    "ranks = ('Two', 'Three', 'Four', 'Five', 'Six', 'Seven', 'Eight', 'Nine', 'Ten', 'Jack', 'Queen', 'King', 'Ace')\n",
    "values = {'Two':2, 'Three':3, 'Four':4, 'Five':5, 'Six':6, 'Seven':7, 'Eight':8, \n",
    "            'Nine':9, 'Ten':10, 'Jack':10, 'Queen':10, 'King':10, 'Ace':11}\n",
    "\n",
    "#Defining classes used in the gameplay\n",
    "class Card:\n",
    "    '''\n",
    "    The Card class initiates the cards, every card has a suit, a rank and a value.\n",
    "    You can print out a card, showint its suit and rank.\n",
    "    '''\n",
    "    def __init__(self, suit, rank):\n",
    "        self.suit = suit\n",
    "        self.rank = rank\n",
    "        self.value = values[rank]\n",
    "        \n",
    "    def __str__(self):\n",
    "        return f\"{self.rank} of {self.suit}\"\n",
    "\n",
    "\n",
    "class Deck:\n",
    "    '''\n",
    "    The Deck class initiates a new Deck, which you can shuffle and draw a card from. You can print out the deck, showing the cards in it in order\n",
    "    '''\n",
    "    def __init__(self):\n",
    "        self.all_cards=[]\n",
    "        for suit in suits:\n",
    "            for rank in ranks:\n",
    "                self.all_cards.append(Card(suit,rank))        \n",
    "\n",
    "    def shuffle(self):\n",
    "        random.shuffle(self.all_cards)\n",
    "        \n",
    "    def deal_one(self):\n",
    "        return self.all_cards.pop()\n",
    "\n",
    "    def __str__(self):\n",
    "        self.cardlist = ''\n",
    "        num = 0\n",
    "        for c in self.all_cards:\n",
    "            num +=1\n",
    "            self.cardlist += f\"  {num}. card: {c.rank} of {c.suit}\\n\"\n",
    "        return f'Cards in the Deck:\\n{self.cardlist}'\n",
    "\n",
    "    def __len__(self):\n",
    "        return len(self.all_cards)\n",
    "\n",
    "class Player:\n",
    "    '''\n",
    "    The Player class initiates a PLAYER, whith a name and with zero cards.\n",
    "    The eval_hand method computes the value of cards in the hand of the player.\n",
    "    \n",
    "    Printing the playes shows what cards he/she holds and gives back the total value of their cards.\n",
    "    '''\n",
    "    def __init__(self, name, chips, hand=1):\n",
    "        self.name = f'Hand {hand} of {name}'\n",
    "        self.all_cards = []\n",
    "        self.statistics = {\"wins\": 0, \"losses\": 0, \"ties\": 0, \"balance\": chips, \"gain\": 0}\n",
    "\n",
    "    def eval_hand(self):\n",
    "        \n",
    "        self.value_all = 0\n",
    "        self.num_aces=0\n",
    "        self.status='bust'\n",
    "        self.value_hand=0\n",
    "        \n",
    "        for c in self.all_cards:\n",
    "            self.value_all += c.value\n",
    "            \n",
    "            if c.rank == 'Ace':\n",
    "                self.num_aces += 1\n",
    "\n",
    "        for i in range(self.num_aces,-1,-1):\n",
    "            if self.value_all - i*10 == 21:\n",
    "                if len(self.all_cards) == 2:\n",
    "                    self.status = 'blackjack'\n",
    "                    self.value_hand=22\n",
    "                    break\n",
    "                else:\n",
    "                    self.status = '21'\n",
    "                    self.value_hand=21\n",
    "                    break\n",
    "            if 17 <= self.value_all - i*10 < 21:\n",
    "                self.status = 'stop_zone'\n",
    "                self.value_hand=self.value_all - i*10\n",
    "                break\n",
    "            if self.value_all - i*10 < 17:\n",
    "                self.status = 'in_play'\n",
    "                if self.value_hand < self.value_all - i*10:\n",
    "                    self.value_hand = self.value_all - i*10\n",
    " \n",
    "        return self.value_all, self.num_aces, self.status, self.value_hand\n",
    "    \n",
    "    def __str__(self):\n",
    "        \n",
    "        self.card_list=''\n",
    "        self.value_hand_variants=str(self.value_all)\n",
    "        \n",
    "        for c in self.all_cards:\n",
    "            self.card_list += f\"   {c.rank} of {c.suit}\\n\"\n",
    "            \n",
    "        if self.num_aces > 0:\n",
    "            for i in range(self.num_aces):\n",
    "                self.value_hand_variants += f' or {self.value_all - (i+1)*10}'\n",
    "            \n",
    "        return f'{self.name} has {len(self.all_cards)} cards:\\n{self.card_list}\\nThe value of card(s) is {self.value_hand_variants}' \n",
    "\n",
    "    def win_bet(self, bet):\n",
    "        self.statistics['balance'] += bet\n",
    "        self.statistics['gain'] += bet\n",
    "\n",
    "    def lose_bet(self, bet):\n",
    "        self.statistics['balance'] -= bet\n",
    "        self.statistics['gain'] -= bet\n",
    "        "
   ]
  },
  {
   "cell_type": "code",
   "execution_count": 82,
   "metadata": {},
   "outputs": [],
   "source": [
    "#defining funcions\n",
    "\n",
    "def ask_for_players():\n",
    "\n",
    "    '''\n",
    "    Asking how many players do we have. \n",
    "    Should provide a positive whole number between 1 and 5, the funcion checks it and asks again if it is not the case\n",
    "    '''\n",
    "    total = 'WRONG'\n",
    "    while total.isdigit() == False:\n",
    "\n",
    "        total=input(\"Please let us know how many players are going to play (1 to 5): \")\n",
    "        \n",
    "        if total.isdigit() == False:\n",
    "            print(\"Please provide a positive whole number!\")\n",
    "        else:\n",
    "            if int(total) <= 0 or int(total) > 5:\n",
    "                print(\"Please provide a whole number between 1 and 5!\")\n",
    "                total=\"WRONG\"\n",
    "            \n",
    "    return int(total)\n",
    "\n",
    "\n",
    "def ask_for_chips():\n",
    "\n",
    "    '''\n",
    "    Asking the player how many chips he/she has. \n",
    "    Should provide a positive whole number, the funcion checks it and asks again if it is not the case\n",
    "    '''\n",
    "    total = 'WRONG'\n",
    "    while total.isdigit()==False:\n",
    "\n",
    "        total=input(\"Please let us know how many chips do you have to play with: \")\n",
    "        \n",
    "        if total.isdigit()==False:\n",
    "            print(\"Please provide a positive whole number!\")\n",
    "        else:\n",
    "            if int(total)<=0:\n",
    "                print(\"Please provide a positive whole number!\")\n",
    "                total=\"WRONG\"\n",
    "            \n",
    "    return int(total)\n",
    "\n",
    "def ask_for_bet(player):\n",
    "\n",
    "    '''\n",
    "    Asking the player how many chips he/she wants to risk in the next round. \n",
    "    Should provide a positive whole number, the funcion checks it and asks again if it is not the case\n",
    "    Also, should provide a bet less then the amount of his/her total chips\n",
    "    '''\n",
    "    bet = 'WRONG'\n",
    "    \n",
    "    while bet.isdigit()==False:\n",
    "        bet=input(f\"{player.name}, what is your bet for the next game? You have {player.statistics['balance']} chips in total) \")\n",
    "        \n",
    "        if bet.isdigit()==False:\n",
    "            print(\"Please provide a positive whole number!\")\n",
    "        else:\n",
    "            if int(bet)<=0:\n",
    "                print(\"Please provide a positive whole number!\")\n",
    "                bet=\"WRONG\"\n",
    "            elif int(bet) > player.chips:\n",
    "                print(f\"{player.name}, you have less chips than that ({player.statistics['balance']} in total)\")\n",
    "                bet=\"WRONG\"\n",
    "                \n",
    "    return int(bet)\n",
    "\n",
    "def player_action(player):\n",
    "    '''\n",
    "    Asking the player about his next move. \n",
    "    Should provide a valid answer, the funcion checks it and asks again if it is not the case\n",
    "    The player can move only until he/she reaches or exceeds 21.\n",
    "    '''\n",
    "    acceptable_moves=[\"hit\", \"stand\"]\n",
    "    move=\"wrong\"\n",
    "    \n",
    "    while move.lower() not in acceptable_moves:\n",
    "        move = input(f\"{player.name}, what is your next move, hit or stand? Please chose (write hit or stand): \" ).lower()\n",
    "    \n",
    "        if move not in acceptable_moves:\n",
    "            print(\"Your choice is not valid, please provide a valid move!\")\n",
    "    \n",
    "    return move\n",
    "    \n",
    "def winner(players, dealer, players_bet, final=1):\n",
    "    \n",
    "    dealer.eval_hand()\n",
    "    \n",
    "    for i in range(len(players)): \n",
    "        players[i].eval_hand()\n",
    "        \n",
    "    if final==0 and dealer.status == 'blackjack':\n",
    "        \n",
    "        print(dealer)\n",
    "        \n",
    "        print(\"The dealer has a blackjack!\")\n",
    "        game_on = False\n",
    "        \n",
    "        for i in range(num_of_players): \n",
    "            \n",
    "            if players[i].status=='blackjack':\n",
    "                print(f\"{players[i].name} has a black jack too, there is a tie\")\n",
    "                players[i].statistics['ties'] += 1\n",
    "                \n",
    "            else: \n",
    "                print(f\"{players[i].name} lost the game\")\n",
    "                players[i].statistics['losses'] += 1\n",
    "                lose_bet(players[i],players_bet[i])\n",
    "                \n",
    "    elif final==0:\n",
    "        game_on=True\n",
    "    \n",
    "    else:\n",
    "        game_on=False\n",
    "        for i in range(num_of_players): \n",
    "            \n",
    "            if players[i].value_hand > dealer.value_hand:\n",
    "                print(f\"{players[i].name} won with a hand value of {players[i].value_hand}\")\n",
    "                players[i].statistics['wins'] += 1\n",
    "                win_bet(players[i],players_bet[i])\n",
    "                \n",
    "            elif players[i].value_hand == dealer.value_hand:\n",
    "                print(f\"{players[i].name} has a tie with the dealer with a hand value of {players[i].value_hand}\")\n",
    "                players[i].statistics['ties'] += 1\n",
    "            \n",
    "            else: \n",
    "                print(f\"{players[i].name} lost the game with a hand value of {players[i].value_hand}\")\n",
    "                players[i].statistics['losses'] += 1\n",
    "                lose_bet(players[i],players_bet[i])\n",
    "        \n",
    "    return game_on\n",
    "    \n",
    "\n",
    "def ask_for_playon(player):\n",
    "    '''\n",
    "    Asking the player whether they want to play another game. \n",
    "    Should provide a valid answer, the funcion checks it and asks again if it is not the case\n",
    "    '''\n",
    "    \n",
    "    acceptable_answers=[\"y\", \"n\"]\n",
    "    answer=\"wrong\"\n",
    "    \n",
    "    while answer.lower() not in acceptable_answers:\n",
    "        answer = input(f\"{player}, do you want to play another game (Y or N): \" ).lower()\n",
    "    \n",
    "        if answer not in acceptable_answers:\n",
    "            print(\"Your choice is not valid, please provide a valid answer!\")\n",
    "    \n",
    "    return answer == 'y'"
   ]
  },
  {
   "cell_type": "code",
   "execution_count": 72,
   "metadata": {},
   "outputs": [
    {
     "name": "stdout",
     "output_type": "stream",
     "text": [
      "Wellcome to our Black Jack game!\n",
      "You will play against or computer dealer as in a Casino\n"
     ]
    },
    {
     "ename": "KeyboardInterrupt",
     "evalue": "Interrupted by user",
     "output_type": "error",
     "traceback": [
      "\u001b[1;31m---------------------------------------------------------------------------\u001b[0m",
      "\u001b[1;31mKeyboardInterrupt\u001b[0m                         Traceback (most recent call last)",
      "Cell \u001b[1;32mIn[72], line 8\u001b[0m\n\u001b[0;32m      6\u001b[0m \u001b[38;5;28mprint\u001b[39m(\u001b[38;5;124m\"\u001b[39m\u001b[38;5;124mWellcome to our Black Jack game!\u001b[39m\u001b[38;5;124m\"\u001b[39m)\n\u001b[0;32m      7\u001b[0m \u001b[38;5;28mprint\u001b[39m(\u001b[38;5;124m\"\u001b[39m\u001b[38;5;124mYou will play against or computer dealer as in a Casino\u001b[39m\u001b[38;5;124m\"\u001b[39m)\n\u001b[1;32m----> 8\u001b[0m name \u001b[38;5;241m=\u001b[39m \u001b[38;5;28minput\u001b[39m(\u001b[38;5;124m\"\u001b[39m\u001b[38;5;124mPlease let us know your name: \u001b[39m\u001b[38;5;124m\"\u001b[39m)\n\u001b[0;32m      9\u001b[0m chips_total \u001b[38;5;241m=\u001b[39m ask_for_chips()\n\u001b[0;32m     11\u001b[0m \u001b[38;5;66;03m#initiating player and its chips\u001b[39;00m\n",
      "File \u001b[1;32m~\\anaconda3\\Lib\\site-packages\\ipykernel\\kernelbase.py:1262\u001b[0m, in \u001b[0;36mKernel.raw_input\u001b[1;34m(self, prompt)\u001b[0m\n\u001b[0;32m   1260\u001b[0m     msg \u001b[38;5;241m=\u001b[39m \u001b[38;5;124m\"\u001b[39m\u001b[38;5;124mraw_input was called, but this frontend does not support input requests.\u001b[39m\u001b[38;5;124m\"\u001b[39m\n\u001b[0;32m   1261\u001b[0m     \u001b[38;5;28;01mraise\u001b[39;00m StdinNotImplementedError(msg)\n\u001b[1;32m-> 1262\u001b[0m \u001b[38;5;28;01mreturn\u001b[39;00m \u001b[38;5;28mself\u001b[39m\u001b[38;5;241m.\u001b[39m_input_request(\n\u001b[0;32m   1263\u001b[0m     \u001b[38;5;28mstr\u001b[39m(prompt),\n\u001b[0;32m   1264\u001b[0m     \u001b[38;5;28mself\u001b[39m\u001b[38;5;241m.\u001b[39m_parent_ident[\u001b[38;5;124m\"\u001b[39m\u001b[38;5;124mshell\u001b[39m\u001b[38;5;124m\"\u001b[39m],\n\u001b[0;32m   1265\u001b[0m     \u001b[38;5;28mself\u001b[39m\u001b[38;5;241m.\u001b[39mget_parent(\u001b[38;5;124m\"\u001b[39m\u001b[38;5;124mshell\u001b[39m\u001b[38;5;124m\"\u001b[39m),\n\u001b[0;32m   1266\u001b[0m     password\u001b[38;5;241m=\u001b[39m\u001b[38;5;28;01mFalse\u001b[39;00m,\n\u001b[0;32m   1267\u001b[0m )\n",
      "File \u001b[1;32m~\\anaconda3\\Lib\\site-packages\\ipykernel\\kernelbase.py:1305\u001b[0m, in \u001b[0;36mKernel._input_request\u001b[1;34m(self, prompt, ident, parent, password)\u001b[0m\n\u001b[0;32m   1302\u001b[0m \u001b[38;5;28;01mexcept\u001b[39;00m \u001b[38;5;167;01mKeyboardInterrupt\u001b[39;00m:\n\u001b[0;32m   1303\u001b[0m     \u001b[38;5;66;03m# re-raise KeyboardInterrupt, to truncate traceback\u001b[39;00m\n\u001b[0;32m   1304\u001b[0m     msg \u001b[38;5;241m=\u001b[39m \u001b[38;5;124m\"\u001b[39m\u001b[38;5;124mInterrupted by user\u001b[39m\u001b[38;5;124m\"\u001b[39m\n\u001b[1;32m-> 1305\u001b[0m     \u001b[38;5;28;01mraise\u001b[39;00m \u001b[38;5;167;01mKeyboardInterrupt\u001b[39;00m(msg) \u001b[38;5;28;01mfrom\u001b[39;00m \u001b[38;5;28;01mNone\u001b[39;00m\n\u001b[0;32m   1306\u001b[0m \u001b[38;5;28;01mexcept\u001b[39;00m \u001b[38;5;167;01mException\u001b[39;00m:\n\u001b[0;32m   1307\u001b[0m     \u001b[38;5;28mself\u001b[39m\u001b[38;5;241m.\u001b[39mlog\u001b[38;5;241m.\u001b[39mwarning(\u001b[38;5;124m\"\u001b[39m\u001b[38;5;124mInvalid Message:\u001b[39m\u001b[38;5;124m\"\u001b[39m, exc_info\u001b[38;5;241m=\u001b[39m\u001b[38;5;28;01mTrue\u001b[39;00m)\n",
      "\u001b[1;31mKeyboardInterrupt\u001b[0m: Interrupted by user"
     ]
    }
   ],
   "source": [
    "#initiating the game\n",
    "play_on = True\n",
    "\n",
    "\n",
    "#Informing the players about the game\n",
    "print(\"Wellcome to our Black Jack game!\")\n",
    "print(\"You will play against or computer dealer as in a Casino\")\n",
    "\n",
    "\n",
    "#initiating players and their chips\n",
    "players=[]\n",
    "num_of_players = ask_for_players()\n",
    "for i in range(num_of_players):\n",
    "    name = input(\"Please let us know your name: \")\n",
    "    chips_total = ask_for_chips()\n",
    "    players[i] = Player(name, chips_total)\n",
    "\n",
    "dealer = Player(\"Dealer\", 1)\n",
    "\n",
    "while play_on:\n",
    "    #initiating the Deck\n",
    "    play_deck = Deck()\n",
    "    play_deck.shuffle()\n",
    "    \n",
    "    #placing the bet and starting the game\n",
    "    players_bet=[]\n",
    "    for i in range(num_of_players):\n",
    "        players_bet[i] = ask_for_bet(players[i])\n",
    "        \n",
    "    dealer_bet = 0\n",
    "    \n",
    "    game_on = True\n",
    "\n",
    "    #empty the hands of players and deal the first two cards\n",
    "    dealer.all_cards = []\n",
    "    for i in range(num_of_players):\n",
    "        players[i].all_cards = []\n",
    "        \n",
    "    for i in range(2):\n",
    "        for i in range(num_of_players):\n",
    "            players[i].all_cards.append(play_deck.deal_one())\n",
    "            \n",
    "        dealer.all_cards.append(play_deck.deal_one())\n",
    "        \n",
    "    #Show his/her cards and one of the dealer cards to the players\n",
    "    for i in range(num_of_players):\n",
    "        players[i].eval_hand()\n",
    "        print(players[i])\n",
    "\n",
    "    dealer.eval_hand()\n",
    "    print(f\"\\nThe first card of the dealer is {dealer.all_cards[0]}\")\n",
    "    \n",
    "    #Check if the game is over already\n",
    "    winner(players, dealer, players_bet, 0)\n",
    "    \n",
    "    if game_on:\n",
    "        \n",
    "   \n",
    "\n",
    "    break"
   ]
  },
  {
   "cell_type": "code",
   "execution_count": 75,
   "metadata": {},
   "outputs": [],
   "source": [
    "player_one=Player(\"Ika\",100)"
   ]
  },
  {
   "cell_type": "code",
   "execution_count": 76,
   "metadata": {},
   "outputs": [],
   "source": [
    "player_one.all_cards.extend([Card('Hearts','King'),Card('Hearts','Two'),Card('Hearts','Ace')])"
   ]
  },
  {
   "cell_type": "code",
   "execution_count": 77,
   "metadata": {},
   "outputs": [
    {
     "data": {
      "text/plain": [
       "(23, 1, 'in_play', 13)"
      ]
     },
     "execution_count": 77,
     "metadata": {},
     "output_type": "execute_result"
    }
   ],
   "source": [
    "player_one.eval_hand()"
   ]
  },
  {
   "cell_type": "code",
   "execution_count": 78,
   "metadata": {},
   "outputs": [
    {
     "name": "stdout",
     "output_type": "stream",
     "text": [
      "Hand 1 of Ika has 3 cards:\n",
      "   King of Hearts\n",
      "   Two of Hearts\n",
      "   Ace of Hearts\n",
      "\n",
      "The value of card(s) is 23 or 13\n"
     ]
    }
   ],
   "source": [
    "print(player_one)"
   ]
  },
  {
   "cell_type": "code",
   "execution_count": 79,
   "metadata": {},
   "outputs": [
    {
     "data": {
      "text/plain": [
       "'in_play'"
      ]
     },
     "execution_count": 79,
     "metadata": {},
     "output_type": "execute_result"
    }
   ],
   "source": [
    "player_one.status"
   ]
  },
  {
   "cell_type": "code",
   "execution_count": null,
   "metadata": {},
   "outputs": [],
   "source": []
  },
  {
   "cell_type": "code",
   "execution_count": 114,
   "metadata": {},
   "outputs": [],
   "source": [
    "new_deck=Deck()"
   ]
  },
  {
   "cell_type": "code",
   "execution_count": 115,
   "metadata": {},
   "outputs": [],
   "source": [
    "new_deck.shuffle()"
   ]
  },
  {
   "cell_type": "raw",
   "metadata": {},
   "source": [
    "card=new_deck.deal_one()\n",
    "print(card)"
   ]
  },
  {
   "cell_type": "code",
   "execution_count": 117,
   "metadata": {},
   "outputs": [
    {
     "name": "stdout",
     "output_type": "stream",
     "text": [
      "Five of Spades\n"
     ]
    }
   ],
   "source": [
    "card=new_deck.deal_one()\n",
    "print(card)"
   ]
  },
  {
   "cell_type": "code",
   "execution_count": 158,
   "metadata": {},
   "outputs": [
    {
     "data": {
      "text/plain": [
       "range(21, 42, 10)"
      ]
     },
     "execution_count": 158,
     "metadata": {},
     "output_type": "execute_result"
    }
   ],
   "source": [
    "\n",
    "num=2\n",
    "\n",
    "range(21, num*10+22, 10)"
   ]
  },
  {
   "cell_type": "code",
   "execution_count": 9,
   "metadata": {},
   "outputs": [
    {
     "name": "stdout",
     "output_type": "stream",
     "text": [
      "1\n",
      "0\n"
     ]
    }
   ],
   "source": [
    "for i in range(1, -1, -1):\n",
    "    print(i)\n"
   ]
  },
  {
   "cell_type": "code",
   "execution_count": 53,
   "metadata": {},
   "outputs": [
    {
     "name": "stdout",
     "output_type": "stream",
     "text": [
      "bust\n"
     ]
    }
   ],
   "source": [
    "num_aces=0\n",
    "value_hand=22\n",
    "all_cards=[Card('Hearts','King'),Card('Hearts','Ace')]\n",
    "\n",
    "status='bust'\n",
    "        \n",
    "for i in range(num_aces,-1,-1):\n",
    "    if value_hand - i*10 == 21:\n",
    "        if len(all_cards) == 2:\n",
    "            status = 'blackjack'\n",
    "            break\n",
    "        else:\n",
    "            status = '21'\n",
    "            break\n",
    "    if 17 <= value_hand - i*10 < 21:\n",
    "        status = 'stop_zone'\n",
    "        break\n",
    "    if value_hand - i*10 < 17:\n",
    "        status = 'in_play'\n",
    "\n",
    "\n",
    "print(status)"
   ]
  },
  {
   "cell_type": "code",
   "execution_count": null,
   "metadata": {},
   "outputs": [],
   "source": []
  }
 ],
 "metadata": {
  "kernelspec": {
   "display_name": "Python 3 (ipykernel)",
   "language": "python",
   "name": "python3"
  },
  "language_info": {
   "codemirror_mode": {
    "name": "ipython",
    "version": 3
   },
   "file_extension": ".py",
   "mimetype": "text/x-python",
   "name": "python",
   "nbconvert_exporter": "python",
   "pygments_lexer": "ipython3",
   "version": "3.11.7"
  }
 },
 "nbformat": 4,
 "nbformat_minor": 4
}
